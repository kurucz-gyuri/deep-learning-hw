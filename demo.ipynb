{
  "nbformat": 4,
  "nbformat_minor": 0,
  "metadata": {
    "colab": {
      "name": "Untitled0.ipynb",
      "provenance": [],
      "collapsed_sections": []
    },
    "kernelspec": {
      "name": "python3",
      "display_name": "Python 3"
    },
    "accelerator": "GPU"
  },
  "cells": [
    {
      "cell_type": "code",
      "metadata": {
        "colab": {
          "base_uri": "https://localhost:8080/"
        },
        "id": "BICkiFHxHu4h",
        "outputId": "cb6dc5cc-7210-4579-8d84-037f577ecb52"
      },
      "source": [
        "import hungarian_news\n",
        "raw_training_data = hungarian_news.load_raw_training_data()\n",
        "tokenizer = hungarian_news.get_tokenizer(raw_training_data)\n",
        "training_data = hungarian_news.build_training_data(raw_training_data, tokenizer)"
      ],
      "execution_count": 7,
      "outputs": [
        {
          "output_type": "stream",
          "text": [
            "Loading raw training data into memory\n",
            "Building tokenizer...\n",
            "Tokenizer built!\n"
          ],
          "name": "stdout"
        }
      ]
    },
    {
      "cell_type": "code",
      "metadata": {
        "colab": {
          "base_uri": "https://localhost:8080/"
        },
        "id": "D2iGVA9PINoJ",
        "outputId": "2c7e8d1e-fd3b-4c9d-9090-cd93e1de5f46"
      },
      "source": [
        "hungarian_news.tf.config.list_physical_devices()"
      ],
      "execution_count": 9,
      "outputs": [
        {
          "output_type": "execute_result",
          "data": {
            "text/plain": [
              "[PhysicalDevice(name='/physical_device:CPU:0', device_type='CPU'),\n",
              " PhysicalDevice(name='/physical_device:XLA_CPU:0', device_type='XLA_CPU'),\n",
              " PhysicalDevice(name='/physical_device:XLA_GPU:0', device_type='XLA_GPU'),\n",
              " PhysicalDevice(name='/physical_device:GPU:0', device_type='GPU')]"
            ]
          },
          "metadata": {
            "tags": []
          },
          "execution_count": 9
        }
      ]
    },
    {
      "cell_type": "code",
      "metadata": {
        "colab": {
          "base_uri": "https://localhost:8080/"
        },
        "id": "b6GUfTelHxAo",
        "outputId": "a6a63185-b19f-430b-aa13-a1822b9a0dfc"
      },
      "source": [
        "model = hungarian_news.train(training_data, tokenizer, 20)"
      ],
      "execution_count": 10,
      "outputs": [
        {
          "output_type": "stream",
          "text": [
            "training; devices: [PhysicalDevice(name='/physical_device:CPU:0', device_type='CPU'), PhysicalDevice(name='/physical_device:XLA_CPU:0', device_type='XLA_CPU'), PhysicalDevice(name='/physical_device:XLA_GPU:0', device_type='XLA_GPU'), PhysicalDevice(name='/physical_device:GPU:0', device_type='GPU')]\n",
            "vocab_size: 8200\n",
            "Epoch 1 Batch 0 Loss 9.0066 Accuracy 0.0001\n",
            "Epoch 1 Batch 50 Loss 8.8081 Accuracy 0.0273\n",
            "Epoch 1 Batch 100 Loss 8.6106 Accuracy 0.0362\n",
            "Epoch 1 Batch 150 Loss 8.4521 Accuracy 0.0391\n",
            "Epoch 1 Batch 200 Loss 8.3032 Accuracy 0.0406\n",
            "Epoch 1 Loss 8.1752 Accuracy 0.0414\n",
            "Time taken for 1 epoch: 391.99 secs\n",
            "\n",
            "Epoch 2 Batch 0 Loss 7.5657 Accuracy 0.0452\n",
            "Epoch 2 Batch 50 Loss 7.5635 Accuracy 0.0456\n",
            "Epoch 2 Batch 100 Loss 7.5599 Accuracy 0.0458\n",
            "Epoch 2 Batch 150 Loss 7.5566 Accuracy 0.0465\n",
            "Epoch 2 Batch 200 Loss 7.5303 Accuracy 0.0525\n",
            "Epoch 2 Loss 7.4636 Accuracy 0.0634\n",
            "Time taken for 1 epoch: 359.24 secs\n",
            "\n",
            "Epoch 3 Batch 0 Loss 7.0407 Accuracy 0.1167\n",
            "Epoch 3 Batch 50 Loss 6.9169 Accuracy 0.1218\n",
            "Epoch 3 Batch 100 Loss 6.8414 Accuracy 0.1235\n",
            "Epoch 3 Batch 150 Loss 6.7850 Accuracy 0.1251\n",
            "Epoch 3 Batch 200 Loss 6.7344 Accuracy 0.1267\n",
            "Epoch 3 Loss 6.6897 Accuracy 0.1280\n",
            "Time taken for 1 epoch: 360.57 secs\n",
            "\n",
            "Epoch 4 Batch 0 Loss 6.4566 Accuracy 0.1375\n",
            "Epoch 4 Batch 50 Loss 6.4149 Accuracy 0.1354\n",
            "Epoch 4 Batch 100 Loss 6.3791 Accuracy 0.1364\n",
            "Epoch 4 Batch 150 Loss 6.3368 Accuracy 0.1375\n",
            "Epoch 4 Batch 200 Loss 6.2980 Accuracy 0.1384\n",
            "Epoch 4 Loss 6.2620 Accuracy 0.1396\n",
            "Time taken for 1 epoch: 360.68 secs\n",
            "\n",
            "Epoch 5 Batch 0 Loss 6.0649 Accuracy 0.1406\n",
            "Epoch 5 Batch 50 Loss 6.0414 Accuracy 0.1460\n",
            "Epoch 5 Batch 100 Loss 6.0035 Accuracy 0.1475\n",
            "Epoch 5 Batch 150 Loss 5.9750 Accuracy 0.1485\n",
            "Epoch 5 Batch 200 Loss 5.9450 Accuracy 0.1496\n",
            "Saving checkpoint for epoch 5 at ./checkpoints/hungarian_news-6-512-8-2048-0/ckpt-1\n",
            "Epoch 5 Loss 5.9153 Accuracy 0.1509\n",
            "Time taken for 1 epoch: 362.36 secs\n",
            "\n",
            "Epoch 6 Batch 0 Loss 5.7753 Accuracy 0.1575\n",
            "Epoch 6 Batch 50 Loss 5.7035 Accuracy 0.1599\n",
            "Epoch 6 Batch 100 Loss 5.6811 Accuracy 0.1614\n",
            "Epoch 6 Batch 150 Loss 5.6498 Accuracy 0.1635\n",
            "Epoch 6 Batch 200 Loss 5.6238 Accuracy 0.1653\n",
            "Epoch 6 Loss 5.5952 Accuracy 0.1674\n",
            "Time taken for 1 epoch: 360.79 secs\n",
            "\n",
            "Epoch 7 Batch 0 Loss 5.3778 Accuracy 0.1835\n",
            "Epoch 7 Batch 50 Loss 5.3820 Accuracy 0.1816\n",
            "Epoch 7 Batch 100 Loss 5.3614 Accuracy 0.1831\n",
            "Epoch 7 Batch 150 Loss 5.3393 Accuracy 0.1850\n",
            "Epoch 7 Batch 200 Loss 5.3157 Accuracy 0.1867\n",
            "Epoch 7 Loss 5.2939 Accuracy 0.1884\n",
            "Time taken for 1 epoch: 360.79 secs\n",
            "\n",
            "Epoch 8 Batch 0 Loss 5.1181 Accuracy 0.1997\n",
            "Epoch 8 Batch 50 Loss 5.1040 Accuracy 0.2018\n",
            "Epoch 8 Batch 100 Loss 5.0924 Accuracy 0.2029\n",
            "Epoch 8 Batch 150 Loss 5.0718 Accuracy 0.2048\n",
            "Epoch 8 Batch 200 Loss 5.0544 Accuracy 0.2065\n",
            "Epoch 8 Loss 5.0360 Accuracy 0.2080\n",
            "Time taken for 1 epoch: 360.79 secs\n",
            "\n",
            "Epoch 9 Batch 0 Loss 4.8552 Accuracy 0.2193\n",
            "Epoch 9 Batch 50 Loss 4.8627 Accuracy 0.2214\n",
            "Epoch 9 Batch 100 Loss 4.8503 Accuracy 0.2223\n",
            "Epoch 9 Batch 150 Loss 4.8344 Accuracy 0.2238\n",
            "Epoch 9 Batch 200 Loss 4.8231 Accuracy 0.2248\n",
            "Epoch 9 Loss 4.8064 Accuracy 0.2264\n",
            "Time taken for 1 epoch: 360.70 secs\n",
            "\n",
            "Epoch 10 Batch 0 Loss 4.7434 Accuracy 0.2281\n",
            "Epoch 10 Batch 50 Loss 4.6258 Accuracy 0.2402\n",
            "Epoch 10 Batch 100 Loss 4.6205 Accuracy 0.2413\n",
            "Epoch 10 Batch 150 Loss 4.6171 Accuracy 0.2419\n",
            "Epoch 10 Batch 200 Loss 4.6089 Accuracy 0.2428\n",
            "Saving checkpoint for epoch 10 at ./checkpoints/hungarian_news-6-512-8-2048-0/ckpt-2\n",
            "Epoch 10 Loss 4.6036 Accuracy 0.2434\n",
            "Time taken for 1 epoch: 361.54 secs\n",
            "\n",
            "Epoch 11 Batch 0 Loss 4.4225 Accuracy 0.2691\n",
            "Epoch 11 Batch 50 Loss 4.4333 Accuracy 0.2571\n",
            "Epoch 11 Batch 100 Loss 4.4381 Accuracy 0.2565\n",
            "Epoch 11 Batch 150 Loss 4.4333 Accuracy 0.2577\n",
            "Epoch 11 Batch 200 Loss 4.4245 Accuracy 0.2588\n",
            "Epoch 11 Loss 4.4180 Accuracy 0.2597\n",
            "Time taken for 1 epoch: 360.18 secs\n",
            "\n",
            "Epoch 12 Batch 0 Loss 4.2617 Accuracy 0.2692\n",
            "Epoch 12 Batch 50 Loss 4.2496 Accuracy 0.2751\n",
            "Epoch 12 Batch 100 Loss 4.2525 Accuracy 0.2750\n",
            "Epoch 12 Batch 150 Loss 4.2553 Accuracy 0.2749\n",
            "Epoch 12 Batch 200 Loss 4.2573 Accuracy 0.2747\n",
            "Epoch 12 Loss 4.2529 Accuracy 0.2754\n",
            "Time taken for 1 epoch: 359.96 secs\n",
            "\n",
            "Epoch 13 Batch 0 Loss 4.0482 Accuracy 0.2929\n",
            "Epoch 13 Batch 50 Loss 4.0774 Accuracy 0.2915\n",
            "Epoch 13 Batch 100 Loss 4.0847 Accuracy 0.2916\n",
            "Epoch 13 Batch 150 Loss 4.0925 Accuracy 0.2908\n",
            "Epoch 13 Batch 200 Loss 4.1005 Accuracy 0.2901\n",
            "Epoch 13 Loss 4.1047 Accuracy 0.2898\n",
            "Time taken for 1 epoch: 359.88 secs\n",
            "\n",
            "Epoch 14 Batch 0 Loss 3.8799 Accuracy 0.3131\n",
            "Epoch 14 Batch 50 Loss 3.9334 Accuracy 0.3065\n",
            "Epoch 14 Batch 100 Loss 3.9513 Accuracy 0.3043\n",
            "Epoch 14 Batch 150 Loss 3.9596 Accuracy 0.3037\n",
            "Epoch 14 Batch 200 Loss 3.9697 Accuracy 0.3029\n",
            "Epoch 14 Loss 3.9719 Accuracy 0.3030\n",
            "Time taken for 1 epoch: 360.06 secs\n",
            "\n",
            "Epoch 15 Batch 0 Loss 3.8341 Accuracy 0.3104\n",
            "Epoch 15 Batch 50 Loss 3.7904 Accuracy 0.3203\n",
            "Epoch 15 Batch 100 Loss 3.8183 Accuracy 0.3177\n",
            "Epoch 15 Batch 150 Loss 3.8374 Accuracy 0.3162\n",
            "Epoch 15 Batch 200 Loss 3.8461 Accuracy 0.3155\n",
            "Saving checkpoint for epoch 15 at ./checkpoints/hungarian_news-6-512-8-2048-0/ckpt-3\n",
            "Epoch 15 Loss 3.8521 Accuracy 0.3151\n",
            "Time taken for 1 epoch: 361.24 secs\n",
            "\n",
            "Epoch 16 Batch 0 Loss 3.6119 Accuracy 0.3458\n",
            "Epoch 16 Batch 50 Loss 3.6810 Accuracy 0.3323\n",
            "Epoch 16 Batch 100 Loss 3.7069 Accuracy 0.3299\n",
            "Epoch 16 Batch 150 Loss 3.7217 Accuracy 0.3283\n",
            "Epoch 16 Batch 200 Loss 3.7324 Accuracy 0.3273\n",
            "Epoch 16 Loss 3.7446 Accuracy 0.3260\n",
            "Time taken for 1 epoch: 359.85 secs\n",
            "\n",
            "Epoch 17 Batch 0 Loss 3.5703 Accuracy 0.3459\n",
            "Epoch 17 Batch 50 Loss 3.5564 Accuracy 0.3458\n",
            "Epoch 17 Batch 100 Loss 3.5858 Accuracy 0.3422\n",
            "Epoch 17 Batch 150 Loss 3.6093 Accuracy 0.3399\n",
            "Epoch 17 Batch 200 Loss 3.6242 Accuracy 0.3386\n",
            "Epoch 17 Loss 3.6353 Accuracy 0.3375\n",
            "Time taken for 1 epoch: 359.76 secs\n",
            "\n",
            "Epoch 18 Batch 0 Loss 3.3445 Accuracy 0.3716\n",
            "Epoch 18 Batch 50 Loss 3.4303 Accuracy 0.3604\n",
            "Epoch 18 Batch 100 Loss 3.4592 Accuracy 0.3569\n",
            "Epoch 18 Batch 150 Loss 3.4866 Accuracy 0.3539\n",
            "Epoch 18 Batch 200 Loss 3.5011 Accuracy 0.3523\n",
            "Epoch 18 Loss 3.5145 Accuracy 0.3508\n",
            "Time taken for 1 epoch: 359.85 secs\n",
            "\n",
            "Epoch 19 Batch 0 Loss 3.3266 Accuracy 0.3741\n",
            "Epoch 19 Batch 50 Loss 3.3125 Accuracy 0.3740\n",
            "Epoch 19 Batch 100 Loss 3.3503 Accuracy 0.3694\n",
            "Epoch 19 Batch 150 Loss 3.3734 Accuracy 0.3665\n",
            "Epoch 19 Batch 200 Loss 3.3899 Accuracy 0.3645\n",
            "Epoch 19 Loss 3.4013 Accuracy 0.3633\n",
            "Time taken for 1 epoch: 360.03 secs\n",
            "\n",
            "Epoch 20 Batch 0 Loss 3.1935 Accuracy 0.3936\n",
            "Epoch 20 Batch 50 Loss 3.1948 Accuracy 0.3877\n",
            "Epoch 20 Batch 100 Loss 3.2320 Accuracy 0.3827\n",
            "Epoch 20 Batch 150 Loss 3.2548 Accuracy 0.3802\n",
            "Epoch 20 Batch 200 Loss 3.2774 Accuracy 0.3775\n",
            "Saving checkpoint for epoch 20 at ./checkpoints/hungarian_news-6-512-8-2048-0/ckpt-4\n",
            "Epoch 20 Loss 3.2947 Accuracy 0.3756\n",
            "Time taken for 1 epoch: 361.26 secs\n",
            "\n"
          ],
          "name": "stdout"
        }
      ]
    },
    {
      "cell_type": "code",
      "metadata": {
        "colab": {
          "base_uri": "https://localhost:8080/"
        },
        "id": "-2Dg8W2OTjxh",
        "outputId": "4c68dfd1-d236-404e-f1a0-7dbe954804e4"
      },
      "source": [
        "hungarian_news.generate(model, tokenizer, \"Magyarország \", max_len = 32, top_k = 3)"
      ],
      "execution_count": 27,
      "outputs": [
        {
          "output_type": "stream",
          "text": [
            "Prompt: Magyarország \n",
            "Generated: Magyarország a magyar kormány által benyújtotta a koronavírus miatt a magyar kormány az Európai Unió által tervezett intézkedések miatt a veszélyhelyzet miatt történő lezárulásának meghosszabbítás\n"
          ],
          "name": "stdout"
        }
      ]
    }
  ]
}